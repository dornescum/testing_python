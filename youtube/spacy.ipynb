{
  "nbformat": 4,
  "nbformat_minor": 0,
  "metadata": {
    "colab": {
      "provenance": []
    },
    "kernelspec": {
      "name": "python3",
      "display_name": "Python 3"
    },
    "language_info": {
      "name": "python"
    }
  },
  "cells": [
    {
      "cell_type": "code",
      "execution_count": 16,
      "metadata": {
        "colab": {
          "base_uri": "https://localhost:8080/"
        },
        "id": "9ZBEU1PDYBEP",
        "outputId": "c7d26b39-46d6-4186-b373-8c1fd417443e"
      },
      "outputs": [
        {
          "output_type": "stream",
          "name": "stdout",
          "text": [
            "Newcastle\n",
            "United\n",
            "'s\n",
            "newest\n",
            "recruit\n",
            "Harvey\n",
            "Barnes\n",
            "says\n",
            "playing\n",
            "in\n",
            "the\n",
            "Magpies\n",
            "team\n",
            "is\n",
            "an\n",
            "attacker\n",
            "'s\n",
            "dream\n",
            ".\n",
            "Newcastle United's ORG\n",
            "Harvey Barnes PERSON\n",
            "Magpies NORP\n"
          ]
        }
      ],
      "source": [
        "import spacy\n",
        "\n",
        "nlp = spacy.load(\"en_core_web_sm\")\n",
        "\n",
        "\n",
        "text = \"Newcastle United's newest recruit Harvey Barnes says playing in the Magpies team is an attacker's dream.\"\n",
        "\n",
        "# text\n",
        "\n",
        "doc = nlp(text)\n",
        "\n",
        "for token in doc:\n",
        "    print(token)\n",
        "\n",
        "for entity in doc.ents:\n",
        "    print(entity.text, entity.label_)"
      ]
    }
  ]
}